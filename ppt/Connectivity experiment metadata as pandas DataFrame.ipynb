{
 "metadata": {
  "name": "",
  "signature": "sha256:0fcde21ebd2268acaeec3ebbf445de69d4c53b48647fe0e7aa5160264a0a1de3"
 },
 "nbformat": 3,
 "nbformat_minor": 0,
 "worksheets": [
  {
   "cells": [
    {
     "cell_type": "heading",
     "level": 1,
     "metadata": {},
     "source": [
      "Connectivity experiment metadata as pandas"
     ]
    },
    {
     "cell_type": "markdown",
     "metadata": {},
     "source": [
      "shawno@allensinstitute.org"
     ]
    },
    {
     "cell_type": "heading",
     "level": 3,
     "metadata": {},
     "source": [
      "Imports and config for notebook display"
     ]
    },
    {
     "cell_type": "code",
     "collapsed": true,
     "input": [
      "import pandas as pd\n",
      "pd.set_option('display.notebook_repr_html',True)\n",
      "pd.set_option('display.max_columns', 500)\n",
      "pd.set_option('display.width', 5000)\n",
      "import matplotlib.pyplot as plt\n",
      "import matplotlib\n",
      "%matplotlib inline "
     ],
     "language": "python",
     "metadata": {},
     "outputs": [],
     "prompt_number": 16
    },
    {
     "cell_type": "heading",
     "level": 4,
     "metadata": {},
     "source": [
      "Get data"
     ]
    },
    {
     "cell_type": "code",
     "collapsed": true,
     "input": [
      "from friday_harbor.data.regenerate_data import regenerate_data\n",
      "data_dir = \"/Users/Shawn/Desktop/friday_harbor_data\"\n",
      "# regenerate_data(data_dir)"
     ],
     "language": "python",
     "metadata": {},
     "outputs": [],
     "prompt_number": 17
    },
    {
     "cell_type": "heading",
     "level": 4,
     "metadata": {},
     "source": [
      "Instantiate ExperimentManager object"
     ]
    },
    {
     "cell_type": "code",
     "collapsed": true,
     "input": [
      "from friday_harbor import experiment\n",
      "data_dir = \"/Users/Shawn/Desktop/friday_harbor_data\"\n",
      "em = experiment.ExperimentManager(data_dir)"
     ],
     "language": "python",
     "metadata": {},
     "outputs": [],
     "prompt_number": 18
    },
    {
     "cell_type": "code",
     "collapsed": true,
     "input": [
      "print \"Number of experiments = \", len(em.experiment_list)"
     ],
     "language": "python",
     "metadata": {},
     "outputs": [
      {
       "output_type": "stream",
       "stream": "stdout",
       "text": [
        "Number of experiments =  1772\n"
       ]
      }
     ],
     "prompt_number": 19
    },
    {
     "cell_type": "code",
     "collapsed": true,
     "input": [
      "expt_100 = em.experiment_list[100]\n",
      "type(expt_100)\n",
      "print expt_100.structure_abbrev"
     ],
     "language": "python",
     "metadata": {},
     "outputs": [
      {
       "output_type": "stream",
       "stream": "stdout",
       "text": [
        "SSp-tr\n"
       ]
      }
     ],
     "prompt_number": 20
    },
    {
     "cell_type": "code",
     "collapsed": true,
     "input": [
      "expt_100.__dict__"
     ],
     "language": "python",
     "metadata": {},
     "outputs": [
      {
       "metadata": {},
       "output_type": "pyout",
       "prompt_number": 21,
       "text": [
        "{'gender': 'M',\n",
        " 'id': 100142655,\n",
        " 'injection_coordinates': [7000, 1600, 8200],\n",
        " 'injection_structures_acronym_list': ['SSp-tr'],\n",
        " 'injection_volume': 0.11662,\n",
        " 'name': '378-850',\n",
        " 'num_voxels': 488451,\n",
        " 'paths': <friday_harbor.paths.Paths at 0x1088b4f90>,\n",
        " 'strain': 'C57BL/6J',\n",
        " 'structure_abbrev': 'SSp-tr',\n",
        " 'structure_color': '188064',\n",
        " 'structure_id': 361,\n",
        " 'structure_name': 'Primary somatosensory area, trunk',\n",
        " 'sum': 7.35265,\n",
        " 'transgenic_line': '',\n",
        " 'wildtype': True}"
       ]
      }
     ],
     "prompt_number": 21
    },
    {
     "cell_type": "heading",
     "level": 4,
     "metadata": {},
     "source": [
      "Make metadata into pandas DataFrame"
     ]
    },
    {
     "cell_type": "code",
     "collapsed": true,
     "input": [
      "# The DataFrame is a core object in the pandas library. Similar structure to DataFrame in R.\n",
      "# It stores a tabular array of data and has methods for \n",
      "# sorting and slicing data, and also for summary statistics and plotting."
     ],
     "language": "python",
     "metadata": {},
     "outputs": [],
     "prompt_number": 22
    },
    {
     "cell_type": "code",
     "collapsed": true,
     "input": [
      "# Ordering of columns in df\n",
      "columns = ['id',\n",
      "           'name',\n",
      "           'structure_abbrev',\n",
      "           'structure_id',\n",
      "           'injection_structures_acronym_list',\n",
      "           'transgenic_line',\n",
      "           'injection_volume',\n",
      "           'wildtype',\n",
      "           'sum',\n",
      "           'num_voxels']"
     ],
     "language": "python",
     "metadata": {},
     "outputs": [],
     "prompt_number": 23
    },
    {
     "cell_type": "code",
     "collapsed": true,
     "input": [
      "# Make list of dictionaries. Each element in list will be row in dataframe\n",
      "ex_dict_list = []\n",
      "for ex in em.experiment_list:\n",
      "    ex_dict = dict.fromkeys(columns)\n",
      "    for col in columns:\n",
      "        ex_dict[col] = ex.__dict__[col]\n",
      "    ex_dict_list.append(ex_dict)\n",
      "df = pd.DataFrame(ex_dict_list)\n",
      "df = df.reindex(columns=columns) # Force column order\n",
      "\n",
      "print \"Compare ids for first 5 experiments:\"\n",
      "for i in range(5):\n",
      "    print \"ex_list\", em.experiment_list[i].id, \"df\", df.id[i]"
     ],
     "language": "python",
     "metadata": {},
     "outputs": [
      {
       "output_type": "stream",
       "stream": "stdout",
       "text": [
        "Compare ids for first 5 experiments:\n",
        "ex_list 180435652 df 180435652\n",
        "ex_list 180436360 df 180436360\n",
        "ex_list 180719293 df 180719293\n",
        "ex_list 166055636 df 166055636\n",
        "ex_list 167902586 df 167902586\n"
       ]
      }
     ],
     "prompt_number": 24
    },
    {
     "cell_type": "code",
     "collapsed": true,
     "input": [
      "# Number of unique experiments\n",
      "len(df)"
     ],
     "language": "python",
     "metadata": {},
     "outputs": [
      {
       "metadata": {},
       "output_type": "pyout",
       "prompt_number": 25,
       "text": [
        "1772"
       ]
      }
     ],
     "prompt_number": 25
    },
    {
     "cell_type": "code",
     "collapsed": true,
     "input": [
      "# First 5 experiments in ExperimentManager\n",
      "df.head()"
     ],
     "language": "python",
     "metadata": {},
     "outputs": [
      {
       "html": [
        "<div style=\"max-height:1000px;max-width:1500px;overflow:auto;\">\n",
        "<table border=\"1\" class=\"dataframe\">\n",
        "  <thead>\n",
        "    <tr style=\"text-align: right;\">\n",
        "      <th></th>\n",
        "      <th>id</th>\n",
        "      <th>name</th>\n",
        "      <th>structure_abbrev</th>\n",
        "      <th>structure_id</th>\n",
        "      <th>injection_structures_acronym_list</th>\n",
        "      <th>transgenic_line</th>\n",
        "      <th>injection_volume</th>\n",
        "      <th>wildtype</th>\n",
        "      <th>sum</th>\n",
        "      <th>num_voxels</th>\n",
        "    </tr>\n",
        "  </thead>\n",
        "  <tbody>\n",
        "    <tr>\n",
        "      <th>0</th>\n",
        "      <td> 180435652</td>\n",
        "      <td>     378-1825</td>\n",
        "      <td>  PERI</td>\n",
        "      <td> 922</td>\n",
        "      <td>                 [TEa, ECT, ENTl, PERI, AUDv]</td>\n",
        "      <td>               </td>\n",
        "      <td> 0.794668</td>\n",
        "      <td>  True</td>\n",
        "      <td> 25.45392</td>\n",
        "      <td> 484128</td>\n",
        "    </tr>\n",
        "    <tr>\n",
        "      <th>1</th>\n",
        "      <td> 180436360</td>\n",
        "      <td>     378-1827</td>\n",
        "      <td>   CLA</td>\n",
        "      <td> 583</td>\n",
        "      <td> [AIp, SSp-bfd, SSs, CLA, VISC, EPd, PIR, GU]</td>\n",
        "      <td>               </td>\n",
        "      <td> 0.916500</td>\n",
        "      <td>  True</td>\n",
        "      <td> 25.31684</td>\n",
        "      <td> 475004</td>\n",
        "    </tr>\n",
        "    <tr>\n",
        "      <th>2</th>\n",
        "      <td> 180719293</td>\n",
        "      <td>     378-1822</td>\n",
        "      <td>   MOp</td>\n",
        "      <td> 985</td>\n",
        "      <td>                                   [MOp, MOs]</td>\n",
        "      <td>               </td>\n",
        "      <td> 0.769831</td>\n",
        "      <td>  True</td>\n",
        "      <td> 25.16018</td>\n",
        "      <td> 483071</td>\n",
        "    </tr>\n",
        "    <tr>\n",
        "      <th>3</th>\n",
        "      <td> 166055636</td>\n",
        "      <td>  Rbp4-Cre-91</td>\n",
        "      <td>   MOs</td>\n",
        "      <td> 993</td>\n",
        "      <td>                                  [ACAd, MOs]</td>\n",
        "      <td> Rbp4-Cre_KL100</td>\n",
        "      <td> 0.405388</td>\n",
        "      <td> False</td>\n",
        "      <td> 24.25783</td>\n",
        "      <td> 481885</td>\n",
        "    </tr>\n",
        "    <tr>\n",
        "      <th>4</th>\n",
        "      <td> 167902586</td>\n",
        "      <td> Rbp4-Cre-129</td>\n",
        "      <td> ORBvl</td>\n",
        "      <td> 746</td>\n",
        "      <td>                 [ACAd, ILA, ORBm, ORBvl, PL]</td>\n",
        "      <td> Rbp4-Cre_KL100</td>\n",
        "      <td> 0.563716</td>\n",
        "      <td> False</td>\n",
        "      <td> 23.05637</td>\n",
        "      <td> 482998</td>\n",
        "    </tr>\n",
        "  </tbody>\n",
        "</table>\n",
        "</div>"
       ],
       "metadata": {},
       "output_type": "pyout",
       "prompt_number": 26,
       "text": [
        "          id          name structure_abbrev  structure_id             injection_structures_acronym_list transgenic_line  injection_volume wildtype       sum  num_voxels\n",
        "0  180435652      378-1825             PERI           922                  [TEa, ECT, ENTl, PERI, AUDv]                          0.794668     True  25.45392      484128\n",
        "1  180436360      378-1827              CLA           583  [AIp, SSp-bfd, SSs, CLA, VISC, EPd, PIR, GU]                          0.916500     True  25.31684      475004\n",
        "2  180719293      378-1822              MOp           985                                    [MOp, MOs]                          0.769831     True  25.16018      483071\n",
        "3  166055636   Rbp4-Cre-91              MOs           993                                   [ACAd, MOs]  Rbp4-Cre_KL100          0.405388    False  24.25783      481885\n",
        "4  167902586  Rbp4-Cre-129            ORBvl           746                  [ACAd, ILA, ORBm, ORBvl, PL]  Rbp4-Cre_KL100          0.563716    False  23.05637      482998"
       ]
      }
     ],
     "prompt_number": 26
    },
    {
     "cell_type": "code",
     "collapsed": true,
     "input": [
      "# Last 5 experiments in ExperimentManager\n",
      "df.tail()"
     ],
     "language": "python",
     "metadata": {},
     "outputs": [
      {
       "html": [
        "<div style=\"max-height:1000px;max-width:1500px;overflow:auto;\">\n",
        "<table border=\"1\" class=\"dataframe\">\n",
        "  <thead>\n",
        "    <tr style=\"text-align: right;\">\n",
        "      <th></th>\n",
        "      <th>id</th>\n",
        "      <th>name</th>\n",
        "      <th>structure_abbrev</th>\n",
        "      <th>structure_id</th>\n",
        "      <th>injection_structures_acronym_list</th>\n",
        "      <th>transgenic_line</th>\n",
        "      <th>injection_volume</th>\n",
        "      <th>wildtype</th>\n",
        "      <th>sum</th>\n",
        "      <th>num_voxels</th>\n",
        "    </tr>\n",
        "  </thead>\n",
        "  <tbody>\n",
        "    <tr>\n",
        "      <th>1767</th>\n",
        "      <td> 183224418</td>\n",
        "      <td>            Grp-Cre-66</td>\n",
        "      <td>  AON</td>\n",
        "      <td>  159</td>\n",
        "      <td>        [AON]</td>\n",
        "      <td>     Grp-Cre_KH288</td>\n",
        "      <td> 0.001614</td>\n",
        "      <td> False</td>\n",
        "      <td> 0.00171</td>\n",
        "      <td>  50414</td>\n",
        "    </tr>\n",
        "    <tr>\n",
        "      <th>1768</th>\n",
        "      <td> 183172820</td>\n",
        "      <td> Crh-IRES-Cre (BL)-286</td>\n",
        "      <td>  MOs</td>\n",
        "      <td>  993</td>\n",
        "      <td>  [ACAd, MOs]</td>\n",
        "      <td> Crh-IRES-Cre (BL)</td>\n",
        "      <td> 0.024231</td>\n",
        "      <td> False</td>\n",
        "      <td> 0.00163</td>\n",
        "      <td>  63950</td>\n",
        "    </tr>\n",
        "    <tr>\n",
        "      <th>1769</th>\n",
        "      <td> 182040934</td>\n",
        "      <td>      Vip-IRES-Cre-185</td>\n",
        "      <td> AUDp</td>\n",
        "      <td> 1002</td>\n",
        "      <td> [AUDp, AUDd]</td>\n",
        "      <td>      Vip-IRES-Cre</td>\n",
        "      <td> 0.022162</td>\n",
        "      <td> False</td>\n",
        "      <td> 0.00108</td>\n",
        "      <td>     24</td>\n",
        "    </tr>\n",
        "    <tr>\n",
        "      <th>1770</th>\n",
        "      <td> 183103805</td>\n",
        "      <td> Crh-IRES-Cre (BL)-279</td>\n",
        "      <td>  MOp</td>\n",
        "      <td>  985</td>\n",
        "      <td>        [MOp]</td>\n",
        "      <td> Crh-IRES-Cre (BL)</td>\n",
        "      <td> 0.038138</td>\n",
        "      <td> False</td>\n",
        "      <td> 0.00102</td>\n",
        "      <td>  11949</td>\n",
        "    </tr>\n",
        "    <tr>\n",
        "      <th>1771</th>\n",
        "      <td> 277905331</td>\n",
        "      <td> Crh-IRES-Cre (BL)-332</td>\n",
        "      <td> SPVC</td>\n",
        "      <td>  429</td>\n",
        "      <td>       [SPVC]</td>\n",
        "      <td> Crh-IRES-Cre (BL)</td>\n",
        "      <td> 0.000035</td>\n",
        "      <td> False</td>\n",
        "      <td> 0.00059</td>\n",
        "      <td> 493067</td>\n",
        "    </tr>\n",
        "  </tbody>\n",
        "</table>\n",
        "</div>"
       ],
       "metadata": {},
       "output_type": "pyout",
       "prompt_number": 27,
       "text": [
        "             id                   name structure_abbrev  structure_id injection_structures_acronym_list    transgenic_line  injection_volume wildtype      sum  num_voxels\n",
        "1767  183224418             Grp-Cre-66              AON           159                             [AON]      Grp-Cre_KH288          0.001614    False  0.00171       50414\n",
        "1768  183172820  Crh-IRES-Cre (BL)-286              MOs           993                       [ACAd, MOs]  Crh-IRES-Cre (BL)          0.024231    False  0.00163       63950\n",
        "1769  182040934       Vip-IRES-Cre-185             AUDp          1002                      [AUDp, AUDd]       Vip-IRES-Cre          0.022162    False  0.00108          24\n",
        "1770  183103805  Crh-IRES-Cre (BL)-279              MOp           985                             [MOp]  Crh-IRES-Cre (BL)          0.038138    False  0.00102       11949\n",
        "1771  277905331  Crh-IRES-Cre (BL)-332             SPVC           429                            [SPVC]  Crh-IRES-Cre (BL)          0.000035    False  0.00059      493067"
       ]
      }
     ],
     "prompt_number": 27
    },
    {
     "cell_type": "code",
     "collapsed": true,
     "input": [
      "# Number of different transgenic lines used\n",
      "df_cre = df[df.wildtype!=True] # Select mice that are not wildtype using DataFrame indexing\n",
      "len(df_cre.transgenic_line.unique()) # Can use '.' syntax"
     ],
     "language": "python",
     "metadata": {},
     "outputs": [
      {
       "metadata": {},
       "output_type": "pyout",
       "prompt_number": 28,
       "text": [
        "94"
       ]
      }
     ],
     "prompt_number": 28
    },
    {
     "cell_type": "code",
     "collapsed": true,
     "input": [
      "# Number of experiments with Layer 6 line, Ntsr1-Cre_GN220\n",
      "len(df[df.transgenic_line==\"Ntsr1-Cre_GN220\"])"
     ],
     "language": "python",
     "metadata": {},
     "outputs": [
      {
       "metadata": {},
       "output_type": "pyout",
       "prompt_number": 29,
       "text": [
        "40"
       ]
      }
     ],
     "prompt_number": 29
    },
    {
     "cell_type": "code",
     "collapsed": true,
     "input": [
      "# Histogram \n",
      "matplotlib.rcParams['figure.figsize'] = (20.0,3)\n",
      "tmp = df_cre['transgenic_line'].value_counts()[:50].plot(kind='bar')\n",
      "plt.title(\"Top 50 injected Cre lines\"); plt.ylabel(\"# Experiments\");"
     ],
     "language": "python",
     "metadata": {},
     "outputs": [
      {
       "metadata": {},
       "output_type": "display_data",
       "png": "[encoded data removed]",
       "text": [
        "<matplotlib.figure.Figure at 0x108b5e4d0>"
       ]
      }
     ],
     "prompt_number": 30
    },
    {
     "cell_type": "code",
     "collapsed": true,
     "input": [
      "# Top ten lines\n",
      "df_cre['transgenic_line'].value_counts()[:10]"
     ],
     "language": "python",
     "metadata": {},
     "outputs": [
      {
       "metadata": {},
       "output_type": "pyout",
       "prompt_number": 31,
       "text": [
        "Rbp4-Cre_KL100           62\n",
        "Cux2-IRES-Cre            56\n",
        "A930038C07Rik-Tg1-Cre    50\n",
        "Syt6-Cre_KI148           49\n",
        "Scnn1a-Tg3-Cre           40\n",
        "Ntsr1-Cre_GN220          40\n",
        "Ppp1r17-Cre_NL146        36\n",
        "Chrna2-Cre_OE25          35\n",
        "Gad2-IRES-Cre            32\n",
        "Slc17a6-IRES-Cre         30\n",
        "dtype: int64"
       ]
      }
     ],
     "prompt_number": 31
    },
    {
     "cell_type": "code",
     "collapsed": true,
     "input": [
      "# Top ten most injected structures\n",
      "df.structure_abbrev.value_counts()[:10]\n",
      "df['structure_abbrev'].value_counts()[:10]\n",
      "df.structure_abbrev.value_counts()[:10]"
     ],
     "language": "python",
     "metadata": {},
     "outputs": [
      {
       "metadata": {},
       "output_type": "pyout",
       "prompt_number": 32,
       "text": [
        "SSp-bfd    67\n",
        "VISp       67\n",
        "MOs        56\n",
        "MOp        55\n",
        "CP         45\n",
        "LHA        36\n",
        "ACAd       36\n",
        "DG         35\n",
        "SSp-ll     28\n",
        "ENTl       27\n",
        "dtype: int64"
       ]
      }
     ],
     "prompt_number": 32
    },
    {
     "cell_type": "code",
     "collapsed": true,
     "input": [
      "# Histogram of top fifty injected structures\n",
      "df['structure_abbrev'].value_counts()[:50].plot(kind='bar')"
     ],
     "language": "python",
     "metadata": {},
     "outputs": [
      {
       "metadata": {},
       "output_type": "pyout",
       "prompt_number": 33,
       "text": [
        "<matplotlib.axes.AxesSubplot at 0x108537ed0>"
       ]
      },
      {
       "metadata": {},
       "output_type": "display_data",
       "png": "[encoded data removed]",
       "text": [
        "<matplotlib.figure.Figure at 0x1088b4950>"
       ]
      }
     ],
     "prompt_number": 33
    },
    {
     "cell_type": "code",
     "collapsed": true,
     "input": [
      "# Injections into primary visual cortex \"VISp\"\n",
      "print \"Number of VISp injections =\", len(df[df.structure_abbrev=='VISp'])\n",
      "df[df.structure_abbrev=='VISp'].head()"
     ],
     "language": "python",
     "metadata": {},
     "outputs": [
      {
       "output_type": "stream",
       "stream": "stdout",
       "text": [
        "Number of VISp injections = 67\n"
       ]
      },
      {
       "html": [
        "<div style=\"max-height:1000px;max-width:1500px;overflow:auto;\">\n",
        "<table border=\"1\" class=\"dataframe\">\n",
        "  <thead>\n",
        "    <tr style=\"text-align: right;\">\n",
        "      <th></th>\n",
        "      <th>id</th>\n",
        "      <th>name</th>\n",
        "      <th>structure_abbrev</th>\n",
        "      <th>structure_id</th>\n",
        "      <th>injection_structures_acronym_list</th>\n",
        "      <th>transgenic_line</th>\n",
        "      <th>injection_volume</th>\n",
        "      <th>wildtype</th>\n",
        "      <th>sum</th>\n",
        "      <th>num_voxels</th>\n",
        "    </tr>\n",
        "  </thead>\n",
        "  <tbody>\n",
        "    <tr>\n",
        "      <th>66 </th>\n",
        "      <td> 180296424</td>\n",
        "      <td> 378-1815</td>\n",
        "      <td> VISp</td>\n",
        "      <td> 385</td>\n",
        "      <td> [VISp, VISl, VISpl, TEa]</td>\n",
        "      <td> </td>\n",
        "      <td> 0.720631</td>\n",
        "      <td> True</td>\n",
        "      <td> 9.16177</td>\n",
        "      <td> 488081</td>\n",
        "    </tr>\n",
        "    <tr>\n",
        "      <th>148</th>\n",
        "      <td> 113887162</td>\n",
        "      <td> 378-1141</td>\n",
        "      <td> VISp</td>\n",
        "      <td> 385</td>\n",
        "      <td>                   [VISp]</td>\n",
        "      <td> </td>\n",
        "      <td> 0.355620</td>\n",
        "      <td> True</td>\n",
        "      <td> 6.18240</td>\n",
        "      <td> 490348</td>\n",
        "    </tr>\n",
        "    <tr>\n",
        "      <th>320</th>\n",
        "      <td> 127138787</td>\n",
        "      <td> 378-1407</td>\n",
        "      <td> VISp</td>\n",
        "      <td> 385</td>\n",
        "      <td> [VISp, VISl, VISpl, TEa]</td>\n",
        "      <td> </td>\n",
        "      <td> 0.176295</td>\n",
        "      <td> True</td>\n",
        "      <td> 3.42242</td>\n",
        "      <td> 486222</td>\n",
        "    </tr>\n",
        "    <tr>\n",
        "      <th>415</th>\n",
        "      <td> 113887868</td>\n",
        "      <td> 378-1142</td>\n",
        "      <td> VISp</td>\n",
        "      <td> 385</td>\n",
        "      <td>                   [VISp]</td>\n",
        "      <td> </td>\n",
        "      <td> 0.170288</td>\n",
        "      <td> True</td>\n",
        "      <td> 2.59350</td>\n",
        "      <td> 490590</td>\n",
        "    </tr>\n",
        "    <tr>\n",
        "      <th>488</th>\n",
        "      <td> 126862385</td>\n",
        "      <td> 378-1349</td>\n",
        "      <td> VISp</td>\n",
        "      <td> 385</td>\n",
        "      <td>                   [VISp]</td>\n",
        "      <td> </td>\n",
        "      <td> 0.171391</td>\n",
        "      <td> True</td>\n",
        "      <td> 2.18191</td>\n",
        "      <td> 490531</td>\n",
        "    </tr>\n",
        "  </tbody>\n",
        "</table>\n",
        "</div>"
       ],
       "metadata": {},
       "output_type": "pyout",
       "prompt_number": 34,
       "text": [
        "            id      name structure_abbrev  structure_id injection_structures_acronym_list transgenic_line  injection_volume wildtype      sum  num_voxels\n",
        "66   180296424  378-1815             VISp           385          [VISp, VISl, VISpl, TEa]                          0.720631     True  9.16177      488081\n",
        "148  113887162  378-1141             VISp           385                            [VISp]                          0.355620     True  6.18240      490348\n",
        "320  127138787  378-1407             VISp           385          [VISp, VISl, VISpl, TEa]                          0.176295     True  3.42242      486222\n",
        "415  113887868  378-1142             VISp           385                            [VISp]                          0.170288     True  2.59350      490590\n",
        "488  126862385  378-1349             VISp           385                            [VISp]                          0.171391     True  2.18191      490531"
       ]
      }
     ],
     "prompt_number": 34
    },
    {
     "cell_type": "code",
     "collapsed": true,
     "input": [
      "# Histogram of injection volumes\n",
      "matplotlib.rcParams['figure.figsize'] = (15.0,4)\n",
      "df.injection_volume.hist(bins=200)\n",
      "plt.ylabel(\"#Injections\"), plt.xlabel(\"Injection volume\");"
     ],
     "language": "python",
     "metadata": {},
     "outputs": [
      {
       "metadata": {},
       "output_type": "display_data",
       "png": "[encoded data removed]",
       "text": [
        "<matplotlib.figure.Figure at 0x107d2fc90>"
       ]
      }
     ],
     "prompt_number": 35
    },
    {
     "cell_type": "code",
     "collapsed": false,
     "input": [
      "# Compare wildtype and cre-line injection volumes\n",
      "df_cre = df[df.wildtype==False]\n",
      "df_wt = df[df.wildtype==True]\n",
      "print \"Median injection volume\"\n",
      "print \"wildtype: \", df_wt.injection_volume.median()\n",
      "print \"cre: \", df_cre.injection_volume.median()\n",
      "df_cre.injection_volume.hist(bins=200,color='green')\n",
      "df_wt.injection_volume.hist(bins=200,color='blue')\n",
      "plt.xlim(0,1), plt.ylabel(\"#Injections\"), plt.xlabel(\"Injection volume\")"
     ],
     "language": "python",
     "metadata": {},
     "outputs": [
      {
       "output_type": "stream",
       "stream": "stdout",
       "text": [
        "Median injection volume\n",
        "wildtype:  0.173612\n",
        "cre:  0.065859\n"
       ]
      },
      {
       "metadata": {},
       "output_type": "pyout",
       "prompt_number": 37,
       "text": [
        "((0, 1),\n",
        " <matplotlib.text.Text at 0x1087fc990>,\n",
        " <matplotlib.text.Text at 0x1085a7d10>)"
       ]
      },
      {
       "metadata": {},
       "output_type": "display_data",
       "png": "[encoded data removed]",
       "text": [
        "<matplotlib.figure.Figure at 0x10975d850>"
       ]
      }
     ],
     "prompt_number": 37
    }
   ],
   "metadata": {}
  }
 ]
}